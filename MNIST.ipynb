{
  "nbformat": 4,
  "nbformat_minor": 0,
  "metadata": {
    "colab": {
      "name": "MNIST.ipynb",
      "provenance": []
    },
    "kernelspec": {
      "name": "python3",
      "display_name": "Python 3"
    },
    "language_info": {
      "name": "python"
    },
    "accelerator": "GPU"
  },
  "cells": [
    {
      "cell_type": "code",
      "execution_count": 1,
      "metadata": {
        "id": "iJor9cAJT_Ex"
      },
      "outputs": [],
      "source": [
        "# importing libraries\n",
        "import tensorflow as tf\n",
        "from tensorflow.keras.datasets import mnist\n",
        "from tensorflow.keras.layers import Conv2D , MaxPool2D , Flatten , Dense , Dropout\n",
        "from tensorflow.keras.models import Sequential\n",
        "from tensorflow.keras.utils import to_categorical\n",
        "import matplotlib.pyplot as plt\n"
      ]
    },
    {
      "cell_type": "code",
      "source": [
        "# loading the dataset \n",
        "(x_train , y_train) , (x_test , y_test) = mnist.load_data()"
      ],
      "metadata": {
        "id": "BKO8EZPTUiXI"
      },
      "execution_count": 2,
      "outputs": []
    },
    {
      "cell_type": "code",
      "source": [
        "classes = [\"Zero\" , \"One\" , \"Two\" , \"Three\" , \"Four\" , \"Five\" , \"Six\" , \"Seven\" , \"Eight\" , \"Nine\"]"
      ],
      "metadata": {
        "id": "bxa61YEfVaEo"
      },
      "execution_count": 3,
      "outputs": []
    },
    {
      "cell_type": "code",
      "source": [
        "x_train.shape"
      ],
      "metadata": {
        "colab": {
          "base_uri": "https://localhost:8080/"
        },
        "id": "KGQvxVxDWykn",
        "outputId": "aed73e81-fd47-4b13-fdba-717b7c41606b"
      },
      "execution_count": 4,
      "outputs": [
        {
          "output_type": "execute_result",
          "data": {
            "text/plain": [
              "(60000, 28, 28)"
            ]
          },
          "metadata": {},
          "execution_count": 4
        }
      ]
    },
    {
      "cell_type": "code",
      "source": [
        "class_number = 60\n",
        "plt.imshow(x_train[class_number])\n",
        "print(classes[y_train[class_number]])"
      ],
      "metadata": {
        "colab": {
          "base_uri": "https://localhost:8080/",
          "height": 282
        },
        "id": "3yL5QTPlV8ww",
        "outputId": "f0466c4f-bd21-4f26-eaff-23b7c4fb810e"
      },
      "execution_count": 5,
      "outputs": [
        {
          "output_type": "stream",
          "name": "stdout",
          "text": [
            "Four\n"
          ]
        },
        {
          "output_type": "display_data",
          "data": {
            "text/plain": [
              "<Figure size 432x288 with 1 Axes>"
            ],
            "image/png": "[encoded data removed]"
          },
          "metadata": {
            "needs_background": "light"
          }
        }
      ]
    },
    {
      "cell_type": "code",
      "source": [
        "# normalize the data\n",
        "x_train , x_test = x_train/255.0 , x_test/255.0"
      ],
      "metadata": {
        "id": "_RxddD3qWPjt"
      },
      "execution_count": 6,
      "outputs": []
    },
    {
      "cell_type": "code",
      "source": [
        "# model creation\n",
        "\n",
        "model = Sequential()\n",
        "\n",
        "# convolution layer 1\n",
        "model.add(Conv2D(36 , 3 , activation = \"relu\" , kernel_initializer= \"he_uniform\"))\n",
        "model.add(MaxPool2D())\n",
        "\n",
        "#convolution layer 2\n",
        "model.add(Conv2D(72 , 3 , activation = \"relu\" , kernel_initializer= \"he_uniform\"))\n",
        "model.add(MaxPool2D())\n",
        "\n",
        "model.add(Flatten())\n",
        "\n",
        "# hidden layer 1\n",
        "model.add(Dense(128 , input_shape=(None , 1) , activation = \"relu\"))\n",
        "model.add(Dropout(0.4))\n",
        "\n",
        "# hidden layer 2\n",
        "model.add(Dense(64 , input_shape=(None , 1) ,activation = \"sigmoid\"))\n",
        "model.add(Dropout(0.5))\n",
        "\n",
        "# hidden layer 3\n",
        "model.add(Dense(32 , input_shape = (None , 1) ,activation = \"relu\"))\n",
        "model.add(Dropout(0.2))\n",
        "\n",
        "# hidden layer 4\n",
        "model.add(Dense(10 , activation = \"softmax\"))"
      ],
      "metadata": {
        "id": "xbhv5y_BXSLP"
      },
      "execution_count": 7,
      "outputs": []
    },
    {
      "cell_type": "code",
      "source": [
        "# model compilation \n",
        "\n",
        "model.compile(\"adam\" , loss = \"sparse_categorical_crossentropy\" , metrics = [\"accuracy\"])"
      ],
      "metadata": {
        "id": "rJM8acYZX4i5"
      },
      "execution_count": 8,
      "outputs": []
    },
    {
      "cell_type": "code",
      "source": [
        "history = model.fit(tf.expand_dims(x_train , -1) , y_train , epochs = 6 , batch_size = 32, validation_data = (x_test , y_test))"
      ],
      "metadata": {
        "colab": {
          "base_uri": "https://localhost:8080/"
        },
        "id": "QzM7nPZXZWa2",
        "outputId": "e5dc7a58-d387-42c6-87fd-9de816d76b3b"
      },
      "execution_count": 11,
      "outputs": [
        {
          "output_type": "stream",
          "name": "stdout",
          "text": [
            "Epoch 1/6\n",
            "1875/1875 [==============================] - 14s 8ms/step - loss: 0.0602 - accuracy: 0.9862 - val_loss: 0.0402 - val_accuracy: 0.9896\n",
            "Epoch 2/6\n",
            "1875/1875 [==============================] - 15s 8ms/step - loss: 0.0593 - accuracy: 0.9864 - val_loss: 0.0484 - val_accuracy: 0.9885\n",
            "Epoch 3/6\n",
            "1875/1875 [==============================] - 15s 8ms/step - loss: 0.0537 - accuracy: 0.9873 - val_loss: 0.0365 - val_accuracy: 0.9891\n",
            "Epoch 4/6\n",
            "1875/1875 [==============================] - 17s 9ms/step - loss: 0.0474 - accuracy: 0.9888 - val_loss: 0.0514 - val_accuracy: 0.9882\n",
            "Epoch 5/6\n",
            "1875/1875 [==============================] - 14s 7ms/step - loss: 0.0454 - accuracy: 0.9892 - val_loss: 0.0408 - val_accuracy: 0.9898\n",
            "Epoch 6/6\n",
            "1875/1875 [==============================] - 14s 7ms/step - loss: 0.0430 - accuracy: 0.9902 - val_loss: 0.0454 - val_accuracy: 0.9890\n"
          ]
        }
      ]
    },
    {
      "cell_type": "code",
      "source": [
        "model.evaluate(x_test , y_test)"
      ],
      "metadata": {
        "colab": {
          "base_uri": "https://localhost:8080/"
        },
        "id": "TTEbIj3yZgpf",
        "outputId": "671afff1-ae2d-4c26-b414-fd5690c873f7"
      },
      "execution_count": 10,
      "outputs": [
        {
          "output_type": "stream",
          "name": "stdout",
          "text": [
            "313/313 [==============================] - 2s 5ms/step - loss: 0.0367 - accuracy: 0.9901\n"
          ]
        },
        {
          "output_type": "execute_result",
          "data": {
            "text/plain": [
              "[0.036662206053733826, 0.9901158213615417]"
            ]
          },
          "metadata": {},
          "execution_count": 10
        }
      ]
    },
    {
      "cell_type": "code",
      "source": [
        "# Visualize train vs test\n",
        "print(history.history.keys())"
      ],
      "metadata": {
        "colab": {
          "base_uri": "https://localhost:8080/"
        },
        "id": "R4nY6xQyqYWd",
        "outputId": "fd0f8b45-907f-4eb8-9ebc-bda237cbf7ff"
      },
      "execution_count": 12,
      "outputs": [
        {
          "output_type": "stream",
          "name": "stdout",
          "text": [
            "dict_keys(['loss', 'accuracy', 'val_loss', 'val_accuracy'])\n"
          ]
        }
      ]
    },
    {
      "cell_type": "code",
      "source": [
        "plt.plot(history.history['accuracy'])\n",
        "plt.plot(history.history['val_accuracy'])\n",
        "plt.title('model acc')\n",
        "plt.ylabel('accuracy')\n",
        "plt.xlabel('epochs')\n",
        "plt.legend(['train', 'test'])\n",
        "plt.show()    "
      ],
      "metadata": {
        "colab": {
          "base_uri": "https://localhost:8080/",
          "height": 295
        },
        "id": "HtqAKFOPrF7Y",
        "outputId": "fb158e52-f2fe-467c-aa7a-bf5756699a37"
      },
      "execution_count": 13,
      "outputs": [
        {
          "output_type": "display_data",
          "data": {
            "text/plain": [
              "<Figure size 432x288 with 1 Axes>"
            ],
            "image/png": "[encoded data removed]"
          },
          "metadata": {
            "needs_background": "light"
          }
        }
      ]
    },
    {
      "cell_type": "code",
      "source": [
        "plt.plot(history.history[\"loss\"])\n",
        "plt.plot(history.history[\"val_loss\"])\n",
        "plt.title(\"model loss\")\n",
        "plt.ylabel(\"losss\")\n",
        "plt.xlabel(\"epochs\")\n",
        "plt.legend([\"train\" , \"test\"])\n",
        "plt.show()"
      ],
      "metadata": {
        "colab": {
          "base_uri": "https://localhost:8080/",
          "height": 295
        },
        "id": "iGNMarUerMYS",
        "outputId": "2dbad950-002f-49b8-9494-544ff663a55f"
      },
      "execution_count": 14,
      "outputs": [
        {
          "output_type": "display_data",
          "data": {
            "text/plain": [
              "<Figure size 432x288 with 1 Axes>"
            ],
            "image/png": "[encoded data removed]"
          },
          "metadata": {
            "needs_background": "light"
          }
        }
      ]
    },
    {
      "cell_type": "code",
      "source": [
        ""
      ],
      "metadata": {
        "id": "2lkPKXmCrVQj"
      },
      "execution_count": null,
      "outputs": []
    }
  ]
}